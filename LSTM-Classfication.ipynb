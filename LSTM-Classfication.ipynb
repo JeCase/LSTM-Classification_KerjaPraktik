{
  "nbformat": 4,
  "nbformat_minor": 0,
  "metadata": {
    "colab": {
      "name": "Laporan_KP_Jerry",
      "provenance": [],
      "machine_shape": "hm"
    },
    "kernelspec": {
      "name": "python3",
      "display_name": "Python 3"
    },
    "language_info": {
      "name": "python"
    },
    "gpuClass": "standard"
  },
  "cells": [
    {
      "cell_type": "markdown",
      "source": [
        "#Import Library and Data"
      ],
      "metadata": {
        "id": "015zEGxthVQw"
      }
    },
    {
      "cell_type": "code",
      "execution_count": 1,
      "metadata": {
        "colab": {
          "base_uri": "https://localhost:8080/"
        },
        "id": "nERJnYyngPBF",
        "outputId": "2ed20728-9a9c-41d9-e40e-ceafb9cff5f0"
      },
      "outputs": [
        {
          "output_type": "stream",
          "name": "stdout",
          "text": [
            "Mounted at /content/drive\n"
          ]
        }
      ],
      "source": [
        "from google.colab import drive\n",
        "drive.mount('/content/drive')"
      ]
    },
    {
      "cell_type": "code",
      "source": [
        "import numpy as np\n",
        "import pandas as pd\n",
        "from plotly.offline import iplot\n",
        "import matplotlib.pyplot as plt\n",
        "import seaborn as sns\n",
        "from tensorflow.keras.preprocessing.text import Tokenizer\n",
        "from tensorflow.keras.preprocessing.sequence import pad_sequences\n",
        "from tensorflow.keras.models import Sequential\n",
        "from tensorflow.keras.layers import Dense, Embedding, LSTM, SpatialDropout1D\n",
        "from sklearn.model_selection import train_test_split\n",
        "from keras.utils.np_utils import to_categorical\n",
        "from tensorflow.keras.callbacks import EarlyStopping\n",
        "from tensorflow.keras.layers import Dropout"
      ],
      "metadata": {
        "id": "ZUr0GcqdgVTv"
      },
      "execution_count": 2,
      "outputs": []
    },
    {
      "cell_type": "code",
      "source": [
        "import tensorflow as tf"
      ],
      "metadata": {
        "id": "1k_IG9CFiNSy"
      },
      "execution_count": 3,
      "outputs": []
    },
    {
      "cell_type": "code",
      "source": [
        "df = pd.read_csv('/content/drive/MyDrive/Kuliah/KP/Clodeo/Colab Notebooks/Address_Update/clean_data/data_termin1.csv')\n",
        "# df = pd.read_csv('/content/drive/MyDrive/Address_Clodeo/Address_Update/clean_data/data_termin1.csv')"
      ],
      "metadata": {
        "id": "KI_iZlLZg_5H"
      },
      "execution_count": 4,
      "outputs": []
    },
    {
      "cell_type": "code",
      "source": [
        "df['Codex'] = df['Codex'].astype(object)\n",
        "df = df.dropna()\n",
        "df.isnull().sum()"
      ],
      "metadata": {
        "colab": {
          "base_uri": "https://localhost:8080/"
        },
        "id": "9LKLd4nDhOX3",
        "outputId": "77c6833a-dbfc-4ced-9ebe-080dd21758e9"
      },
      "execution_count": 9,
      "outputs": [
        {
          "output_type": "execute_result",
          "data": {
            "text/plain": [
              "street1       0\n",
              "Codex         0\n",
              "full_lower    0\n",
              "dtype: int64"
            ]
          },
          "metadata": {},
          "execution_count": 9
        }
      ]
    },
    {
      "cell_type": "code",
      "source": [
        "df"
      ],
      "metadata": {
        "colab": {
          "base_uri": "https://localhost:8080/",
          "height": 424
        },
        "id": "ZnXQ-9VVgqZY",
        "outputId": "a3cd7794-0f3a-4011-acec-8f2c8ed78a3e"
      },
      "execution_count": 10,
      "outputs": [
        {
          "output_type": "execute_result",
          "data": {
            "text/plain": [
              "                                                  street1 Codex  \\\n",
              "0       Gang Veteran RT 01  RW 07 No.9 \\nKelurahan Lub...     0   \n",
              "1       Lingkungan TUMALIA kecamatan Turikale Keluraha...     1   \n",
              "2                  ds kalimalang dsn sragi lor rt03 rw02      2   \n",
              "3       Desa Gunung Tandla rt 01 Rw 01\\nkec. KAwalu\\nk...     3   \n",
              "4                             Ruko Mall Taman Palem No.70     4   \n",
              "...                                                   ...   ...   \n",
              "499995   jl. Kampus VB no. 9 RT.009 Rw\\n.008 Kel. Baba...   552   \n",
              "499996  Alamat:  bojong poncol \\n( patokan : kontrakan...    34   \n",
              "499997  Jl. H saabah raya komplek unilever blok A2 no....   169   \n",
              "499998  kecamatan pujut desa Rembitan. Dusun peluk, RT 2.  3275   \n",
              "499999                     Jl. Juwingan 1/21 D (belakang)   464   \n",
              "\n",
              "                                               full_lower  \n",
              "0       gang veteran rt 01 rw 07 no9 kelurahan lubang ...  \n",
              "1       lingkungan tumalia kecamatan turikale keluraha...  \n",
              "2                   ds kalimalang dsn sragi lor rt03 rw02  \n",
              "3       desa gunung tandla rt 01 rw 01 kec kawalu kota...  \n",
              "4                              ruko mall taman palem no70  \n",
              "...                                                   ...  \n",
              "499995    jl kampus vb no 9 rt009 rw 008 kel babakan sari  \n",
              "499996  alamat bojong poncol patokan kontrakan pak haj...  \n",
              "499997  jl h saabah raya komplek unilever blok a2 no57...  \n",
              "499998     kecamatan pujut desa rembitan dusun peluk rt 2  \n",
              "499999                         jl juwingan 121 d belakang  \n",
              "\n",
              "[499995 rows x 3 columns]"
            ],
            "text/html": [
              "\n",
              "  <div id=\"df-111ea26c-5582-4642-b2f3-999b4855881d\">\n",
              "    <div class=\"colab-df-container\">\n",
              "      <div>\n",
              "<style scoped>\n",
              "    .dataframe tbody tr th:only-of-type {\n",
              "        vertical-align: middle;\n",
              "    }\n",
              "\n",
              "    .dataframe tbody tr th {\n",
              "        vertical-align: top;\n",
              "    }\n",
              "\n",
              "    .dataframe thead th {\n",
              "        text-align: right;\n",
              "    }\n",
              "</style>\n",
              "<table border=\"1\" class=\"dataframe\">\n",
              "  <thead>\n",
              "    <tr style=\"text-align: right;\">\n",
              "      <th></th>\n",
              "      <th>street1</th>\n",
              "      <th>Codex</th>\n",
              "      <th>full_lower</th>\n",
              "    </tr>\n",
              "  </thead>\n",
              "  <tbody>\n",
              "    <tr>\n",
              "      <th>0</th>\n",
              "      <td>Gang Veteran RT 01  RW 07 No.9 \\nKelurahan Lub...</td>\n",
              "      <td>0</td>\n",
              "      <td>gang veteran rt 01 rw 07 no9 kelurahan lubang ...</td>\n",
              "    </tr>\n",
              "    <tr>\n",
              "      <th>1</th>\n",
              "      <td>Lingkungan TUMALIA kecamatan Turikale Keluraha...</td>\n",
              "      <td>1</td>\n",
              "      <td>lingkungan tumalia kecamatan turikale keluraha...</td>\n",
              "    </tr>\n",
              "    <tr>\n",
              "      <th>2</th>\n",
              "      <td>ds kalimalang dsn sragi lor rt03 rw02</td>\n",
              "      <td>2</td>\n",
              "      <td>ds kalimalang dsn sragi lor rt03 rw02</td>\n",
              "    </tr>\n",
              "    <tr>\n",
              "      <th>3</th>\n",
              "      <td>Desa Gunung Tandla rt 01 Rw 01\\nkec. KAwalu\\nk...</td>\n",
              "      <td>3</td>\n",
              "      <td>desa gunung tandla rt 01 rw 01 kec kawalu kota...</td>\n",
              "    </tr>\n",
              "    <tr>\n",
              "      <th>4</th>\n",
              "      <td>Ruko Mall Taman Palem No.70</td>\n",
              "      <td>4</td>\n",
              "      <td>ruko mall taman palem no70</td>\n",
              "    </tr>\n",
              "    <tr>\n",
              "      <th>...</th>\n",
              "      <td>...</td>\n",
              "      <td>...</td>\n",
              "      <td>...</td>\n",
              "    </tr>\n",
              "    <tr>\n",
              "      <th>499995</th>\n",
              "      <td>jl. Kampus VB no. 9 RT.009 Rw\\n.008 Kel. Baba...</td>\n",
              "      <td>552</td>\n",
              "      <td>jl kampus vb no 9 rt009 rw 008 kel babakan sari</td>\n",
              "    </tr>\n",
              "    <tr>\n",
              "      <th>499996</th>\n",
              "      <td>Alamat:  bojong poncol \\n( patokan : kontrakan...</td>\n",
              "      <td>34</td>\n",
              "      <td>alamat bojong poncol patokan kontrakan pak haj...</td>\n",
              "    </tr>\n",
              "    <tr>\n",
              "      <th>499997</th>\n",
              "      <td>Jl. H saabah raya komplek unilever blok A2 no....</td>\n",
              "      <td>169</td>\n",
              "      <td>jl h saabah raya komplek unilever blok a2 no57...</td>\n",
              "    </tr>\n",
              "    <tr>\n",
              "      <th>499998</th>\n",
              "      <td>kecamatan pujut desa Rembitan. Dusun peluk, RT 2.</td>\n",
              "      <td>3275</td>\n",
              "      <td>kecamatan pujut desa rembitan dusun peluk rt 2</td>\n",
              "    </tr>\n",
              "    <tr>\n",
              "      <th>499999</th>\n",
              "      <td>Jl. Juwingan 1/21 D (belakang)</td>\n",
              "      <td>464</td>\n",
              "      <td>jl juwingan 121 d belakang</td>\n",
              "    </tr>\n",
              "  </tbody>\n",
              "</table>\n",
              "<p>499995 rows × 3 columns</p>\n",
              "</div>\n",
              "      <button class=\"colab-df-convert\" onclick=\"convertToInteractive('df-111ea26c-5582-4642-b2f3-999b4855881d')\"\n",
              "              title=\"Convert this dataframe to an interactive table.\"\n",
              "              style=\"display:none;\">\n",
              "        \n",
              "  <svg xmlns=\"http://www.w3.org/2000/svg\" height=\"24px\"viewBox=\"0 0 24 24\"\n",
              "       width=\"24px\">\n",
              "    <path d=\"M0 0h24v24H0V0z\" fill=\"none\"/>\n",
              "    <path d=\"M18.56 5.44l.94 2.06.94-2.06 2.06-.94-2.06-.94-.94-2.06-.94 2.06-2.06.94zm-11 1L8.5 8.5l.94-2.06 2.06-.94-2.06-.94L8.5 2.5l-.94 2.06-2.06.94zm10 10l.94 2.06.94-2.06 2.06-.94-2.06-.94-.94-2.06-.94 2.06-2.06.94z\"/><path d=\"M17.41 7.96l-1.37-1.37c-.4-.4-.92-.59-1.43-.59-.52 0-1.04.2-1.43.59L10.3 9.45l-7.72 7.72c-.78.78-.78 2.05 0 2.83L4 21.41c.39.39.9.59 1.41.59.51 0 1.02-.2 1.41-.59l7.78-7.78 2.81-2.81c.8-.78.8-2.07 0-2.86zM5.41 20L4 18.59l7.72-7.72 1.47 1.35L5.41 20z\"/>\n",
              "  </svg>\n",
              "      </button>\n",
              "      \n",
              "  <style>\n",
              "    .colab-df-container {\n",
              "      display:flex;\n",
              "      flex-wrap:wrap;\n",
              "      gap: 12px;\n",
              "    }\n",
              "\n",
              "    .colab-df-convert {\n",
              "      background-color: #E8F0FE;\n",
              "      border: none;\n",
              "      border-radius: 50%;\n",
              "      cursor: pointer;\n",
              "      display: none;\n",
              "      fill: #1967D2;\n",
              "      height: 32px;\n",
              "      padding: 0 0 0 0;\n",
              "      width: 32px;\n",
              "    }\n",
              "\n",
              "    .colab-df-convert:hover {\n",
              "      background-color: #E2EBFA;\n",
              "      box-shadow: 0px 1px 2px rgba(60, 64, 67, 0.3), 0px 1px 3px 1px rgba(60, 64, 67, 0.15);\n",
              "      fill: #174EA6;\n",
              "    }\n",
              "\n",
              "    [theme=dark] .colab-df-convert {\n",
              "      background-color: #3B4455;\n",
              "      fill: #D2E3FC;\n",
              "    }\n",
              "\n",
              "    [theme=dark] .colab-df-convert:hover {\n",
              "      background-color: #434B5C;\n",
              "      box-shadow: 0px 1px 3px 1px rgba(0, 0, 0, 0.15);\n",
              "      filter: drop-shadow(0px 1px 2px rgba(0, 0, 0, 0.3));\n",
              "      fill: #FFFFFF;\n",
              "    }\n",
              "  </style>\n",
              "\n",
              "      <script>\n",
              "        const buttonEl =\n",
              "          document.querySelector('#df-111ea26c-5582-4642-b2f3-999b4855881d button.colab-df-convert');\n",
              "        buttonEl.style.display =\n",
              "          google.colab.kernel.accessAllowed ? 'block' : 'none';\n",
              "\n",
              "        async function convertToInteractive(key) {\n",
              "          const element = document.querySelector('#df-111ea26c-5582-4642-b2f3-999b4855881d');\n",
              "          const dataTable =\n",
              "            await google.colab.kernel.invokeFunction('convertToInteractive',\n",
              "                                                     [key], {});\n",
              "          if (!dataTable) return;\n",
              "\n",
              "          const docLinkHtml = 'Like what you see? Visit the ' +\n",
              "            '<a target=\"_blank\" href=https://colab.research.google.com/notebooks/data_table.ipynb>data table notebook</a>'\n",
              "            + ' to learn more about interactive tables.';\n",
              "          element.innerHTML = '';\n",
              "          dataTable['output_type'] = 'display_data';\n",
              "          await google.colab.output.renderOutput(dataTable, element);\n",
              "          const docLink = document.createElement('div');\n",
              "          docLink.innerHTML = docLinkHtml;\n",
              "          element.appendChild(docLink);\n",
              "        }\n",
              "      </script>\n",
              "    </div>\n",
              "  </div>\n",
              "  "
            ]
          },
          "metadata": {},
          "execution_count": 10
        }
      ]
    },
    {
      "cell_type": "markdown",
      "source": [
        "#Load Model 500k"
      ],
      "metadata": {
        "id": "akM7R0IOhZ5o"
      }
    },
    {
      "cell_type": "code",
      "source": [
        "model = tf.keras.models.load_model('/content/drive/MyDrive/Kuliah/KP/Clodeo/Colab Notebooks/Address_Update/save_model/model_KP.h5')\n",
        "# model = tf.keras.models.load_model('/content/drive/MyDrive/Address_Clodeo/Address_Update/save_model/model_KP.h5')"
      ],
      "metadata": {
        "id": "nxf5zdM1hb4M"
      },
      "execution_count": 6,
      "outputs": []
    },
    {
      "cell_type": "code",
      "source": [
        "model.summary()"
      ],
      "metadata": {
        "colab": {
          "base_uri": "https://localhost:8080/"
        },
        "id": "-2GoYvUViRoJ",
        "outputId": "11b38fff-a43c-4d35-cc67-281ae7284099"
      },
      "execution_count": 7,
      "outputs": [
        {
          "output_type": "stream",
          "name": "stdout",
          "text": [
            "Model: \"sequential\"\n",
            "_________________________________________________________________\n",
            " Layer (type)                Output Shape              Param #   \n",
            "=================================================================\n",
            " embedding (Embedding)       (None, 250, 100)          5000000   \n",
            "                                                                 \n",
            " spatial_dropout1d (SpatialD  (None, 250, 100)         0         \n",
            " ropout1D)                                                       \n",
            "                                                                 \n",
            " lstm (LSTM)                 (None, 100)               80400     \n",
            "                                                                 \n",
            " dense (Dense)               (None, 6108)              616908    \n",
            "                                                                 \n",
            "=================================================================\n",
            "Total params: 5,697,308\n",
            "Trainable params: 5,697,308\n",
            "Non-trainable params: 0\n",
            "_________________________________________________________________\n"
          ]
        }
      ]
    },
    {
      "cell_type": "markdown",
      "source": [
        "#Test Model"
      ],
      "metadata": {
        "id": "YMnhDM1SjA1g"
      }
    },
    {
      "cell_type": "code",
      "source": [
        "# The maximum number of words to be used. (most frequent)\n",
        "MAX_NB_WORDS = 50000\n",
        "# Max number of words in each statement.\n",
        "MAX_SEQUENCE_LENGTH = 250\n",
        "# This is fixed.\n",
        "EMBEDDING_DIM = 100\n",
        "\n",
        "tokenizer = Tokenizer(num_words=MAX_NB_WORDS, filters='!\"#$%&()*+,-./:;<=>?@[\\]^_`{|}~', lower=True)\n",
        "tokenizer.fit_on_texts(df['full_lower'].values)\n",
        "word_index = tokenizer.word_index\n",
        "print('Found %s unique tokens.' % len(word_index))"
      ],
      "metadata": {
        "colab": {
          "base_uri": "https://localhost:8080/"
        },
        "id": "p2FHysSmiSNe",
        "outputId": "a1e66b35-7136-472e-afa4-a09840be6d10"
      },
      "execution_count": 11,
      "outputs": [
        {
          "output_type": "stream",
          "name": "stdout",
          "text": [
            "Found 303867 unique tokens.\n"
          ]
        }
      ]
    },
    {
      "cell_type": "code",
      "source": [
        "X = tokenizer.texts_to_sequences(df['full_lower'].values)\n",
        "X = pad_sequences(X, maxlen=MAX_SEQUENCE_LENGTH)\n",
        "print('Shape of data address:', X.shape)"
      ],
      "metadata": {
        "id": "TaoQjH7YjOzW",
        "colab": {
          "base_uri": "https://localhost:8080/"
        },
        "outputId": "b2e474b1-8289-43c5-956b-07ffed459935"
      },
      "execution_count": 12,
      "outputs": [
        {
          "output_type": "stream",
          "name": "stdout",
          "text": [
            "Shape of data address: (499995, 250)\n"
          ]
        }
      ]
    },
    {
      "cell_type": "code",
      "source": [
        "Y = pd.get_dummies(df['Codex']).values\n",
        "print('Shape of label address:', Y.shape)"
      ],
      "metadata": {
        "id": "wQvsVSqjjL9q",
        "colab": {
          "base_uri": "https://localhost:8080/"
        },
        "outputId": "8e29abf1-7a08-4545-c2c2-462a3c96db9d"
      },
      "execution_count": 13,
      "outputs": [
        {
          "output_type": "stream",
          "name": "stdout",
          "text": [
            "Shape of label address: (499995, 6108)\n"
          ]
        }
      ]
    },
    {
      "cell_type": "code",
      "source": [
        "X_train, X_test, Y_train, Y_test = train_test_split(X,Y, test_size = 0.10, random_state = 42)\n",
        "print(X_train.shape,Y_train.shape)\n",
        "print(X_test.shape,Y_test.shape)"
      ],
      "metadata": {
        "id": "SsYyWoEKjSfA",
        "colab": {
          "base_uri": "https://localhost:8080/"
        },
        "outputId": "cfed6d8e-fdd8-4646-f5f3-c8f5f9278bf4"
      },
      "execution_count": 14,
      "outputs": [
        {
          "output_type": "stream",
          "name": "stdout",
          "text": [
            "(449995, 250) (449995, 6108)\n",
            "(50000, 250) (50000, 6108)\n"
          ]
        }
      ]
    },
    {
      "cell_type": "code",
      "source": [
        "accr = model.evaluate(X_test,Y_test)\n",
        "print('Test set\\n  Loss: {:0.3f}\\n  Accuracy: {:0.3f}'.format(accr[0],accr[1]))"
      ],
      "metadata": {
        "id": "9FfUHhr1jX0Y",
        "colab": {
          "base_uri": "https://localhost:8080/"
        },
        "outputId": "839d73db-0372-42e5-bf3d-9b316882af30"
      },
      "execution_count": 15,
      "outputs": [
        {
          "output_type": "stream",
          "name": "stdout",
          "text": [
            "1563/1563 [==============================] - 77s 49ms/step - loss: 2.0463 - accuracy: 0.6985\n",
            "Test set\n",
            "  Loss: 2.046\n",
            "  Accuracy: 0.698\n"
          ]
        }
      ]
    },
    {
      "cell_type": "markdown",
      "source": [
        "#Create Model"
      ],
      "metadata": {
        "id": "BtfnM1CFniVC"
      }
    },
    {
      "cell_type": "code",
      "source": [
        "def create_model():\n",
        "  model = Sequential()\n",
        "  model.add(Embedding(MAX_NB_WORDS, EMBEDDING_DIM, input_length=X.shape[1]))\n",
        "  model.add(SpatialDropout1D(0.2))\n",
        "  model.add(LSTM(100, dropout=0.2, recurrent_dropout=0.2))\n",
        "  model.add(Dense(6108, activation='softmax'))\n",
        "  model.compile(loss='categorical_crossentropy', optimizer='adam', metrics=['accuracy'])\n",
        "  return model\n",
        "\n",
        "model = create_model()\n",
        "\n",
        "model.summary()"
      ],
      "metadata": {
        "id": "durE9-trng93",
        "colab": {
          "base_uri": "https://localhost:8080/"
        },
        "outputId": "a21d0f54-ef7e-4f07-ceb8-b413e9af5b99"
      },
      "execution_count": null,
      "outputs": [
        {
          "output_type": "stream",
          "name": "stderr",
          "text": [
            "WARNING:tensorflow:Layer lstm will not use cuDNN kernels since it doesn't meet the criteria. It will use a generic GPU kernel as fallback when running on GPU.\n"
          ]
        },
        {
          "output_type": "stream",
          "name": "stdout",
          "text": [
            "Model: \"sequential\"\n",
            "_________________________________________________________________\n",
            " Layer (type)                Output Shape              Param #   \n",
            "=================================================================\n",
            " embedding (Embedding)       (None, 250, 100)          5000000   \n",
            "                                                                 \n",
            " spatial_dropout1d (SpatialD  (None, 250, 100)         0         \n",
            " ropout1D)                                                       \n",
            "                                                                 \n",
            " lstm (LSTM)                 (None, 100)               80400     \n",
            "                                                                 \n",
            " dense (Dense)               (None, 6108)              616908    \n",
            "                                                                 \n",
            "=================================================================\n",
            "Total params: 5,697,308\n",
            "Trainable params: 5,697,308\n",
            "Non-trainable params: 0\n",
            "_________________________________________________________________\n"
          ]
        }
      ]
    },
    {
      "cell_type": "code",
      "source": [
        "epochs = 10\n",
        "batch_size = 64\n",
        "\n",
        "history = model.fit(\n",
        "    X_train, \n",
        "    Y_train, \n",
        "    epochs=epochs, \n",
        "    batch_size=batch_size,\n",
        "    validation_split=0.10,\n",
        "    callbacks=[EarlyStopping(monitor='val_loss', patience=3, min_delta=0.0001)])"
      ],
      "metadata": {
        "id": "Z-iQXCUPnraP",
        "colab": {
          "base_uri": "https://localhost:8080/"
        },
        "outputId": "ee8ef451-5e0a-4f92-a3d0-1e292ca4f7b9"
      },
      "execution_count": null,
      "outputs": [
        {
          "output_type": "stream",
          "name": "stdout",
          "text": [
            "Epoch 1/10\n",
            "6329/6329 [==============================] - 5165s 815ms/step - loss: 5.9446 - accuracy: 0.0955 - val_loss: 4.3437 - val_accuracy: 0.2960\n",
            "Epoch 2/10\n",
            "6329/6329 [==============================] - 5160s 815ms/step - loss: 3.6195 - accuracy: 0.4098 - val_loss: 2.9926 - val_accuracy: 0.5274\n",
            "Epoch 3/10\n",
            "6329/6329 [==============================] - 5293s 836ms/step - loss: 2.6092 - accuracy: 0.5731 - val_loss: 2.4605 - val_accuracy: 0.6157\n",
            "Epoch 4/10\n",
            "6329/6329 [==============================] - 5339s 844ms/step - loss: 2.1160 - accuracy: 0.6501 - val_loss: 2.2230 - val_accuracy: 0.6537\n",
            "Epoch 5/10\n",
            "6329/6329 [==============================] - 5373s 849ms/step - loss: 1.8359 - accuracy: 0.6892 - val_loss: 2.1084 - val_accuracy: 0.6743\n",
            "Epoch 6/10\n",
            "6329/6329 [==============================] - 5368s 848ms/step - loss: 1.6544 - accuracy: 0.7143 - val_loss: 2.0519 - val_accuracy: 0.6825\n",
            "Epoch 7/10\n",
            "6329/6329 [==============================] - 5249s 829ms/step - loss: 1.5249 - accuracy: 0.7310 - val_loss: 2.0279 - val_accuracy: 0.6877\n",
            "Epoch 8/10\n",
            "6329/6329 [==============================] - 5131s 811ms/step - loss: 1.4238 - accuracy: 0.7445 - val_loss: 2.0075 - val_accuracy: 0.6939\n",
            "Epoch 9/10\n",
            "6329/6329 [==============================] - 5136s 811ms/step - loss: 1.3450 - accuracy: 0.7554 - val_loss: 2.0083 - val_accuracy: 0.6957\n",
            "Epoch 10/10\n",
            "6329/6329 [==============================] - 5156s 815ms/step - loss: 1.2799 - accuracy: 0.7636 - val_loss: 2.0126 - val_accuracy: 0.6982\n"
          ]
        }
      ]
    },
    {
      "cell_type": "code",
      "source": [
        "import pickle\n",
        "with open('/content/drive/MyDrive/Address_Clodeo/Address_Update/trainHistoryDict', 'wb') as file_pi:\n",
        "  pickle.dump(history.history, file_pi)"
      ],
      "metadata": {
        "id": "Gyt5qm5CvmaV"
      },
      "execution_count": null,
      "outputs": []
    },
    {
      "cell_type": "code",
      "source": [
        "import pickle\n",
        "history = pickle.load(open('/content/drive/MyDrive/Address_Clodeo/Address_Update/trainHistoryDict', \"rb\"))"
      ],
      "metadata": {
        "id": "c1w5uAJSzTs6"
      },
      "execution_count": null,
      "outputs": []
    },
    {
      "cell_type": "code",
      "source": [
        "accr = model.evaluate(X_test,Y_test)\n",
        "print('Test set\\n  Loss: {:0.3f}\\n  Accuracy: {:0.3f}'.format(accr[0],accr[1]))"
      ],
      "metadata": {
        "id": "SEZovZUjocHZ",
        "colab": {
          "base_uri": "https://localhost:8080/"
        },
        "outputId": "94a7a358-ff30-4525-e59c-87c7fbc140f9"
      },
      "execution_count": null,
      "outputs": [
        {
          "output_type": "stream",
          "name": "stdout",
          "text": [
            "1563/1563 [==============================] - 107s 69ms/step - loss: 2.0463 - accuracy: 0.6985\n",
            "Test set\n",
            "  Loss: 2.046\n",
            "  Accuracy: 0.698\n"
          ]
        }
      ]
    },
    {
      "cell_type": "code",
      "source": [
        "plt.title('Loss Chart')\n",
        "plt.plot(history['loss'], label='train')\n",
        "plt.plot(history['val_loss'], label='test')\n",
        "plt.legend()\n",
        "plt.xlabel(\"Epochs\")\n",
        "plt.ylabel(\"Number of Loss\")  \n",
        "plt.show();"
      ],
      "metadata": {
        "colab": {
          "base_uri": "https://localhost:8080/",
          "height": 295
        },
        "id": "A7vgC9cNm7NH",
        "outputId": "aa768db9-0552-4306-cd08-e03e3f347cc2"
      },
      "execution_count": null,
      "outputs": [
        {
          "output_type": "display_data",
          "data": {
            "text/plain": [
              "<Figure size 432x288 with 1 Axes>"
            ],
            "image/png": "[encoded data removed]"
          },
          "metadata": {
            "needs_background": "light"
          }
        }
      ]
    },
    {
      "cell_type": "code",
      "source": [
        "plt.title('Accuracy Chart')\n",
        "plt.plot(history.history['accuracy'], label='train')\n",
        "plt.plot(history.history['val_accuracy'], label='test')\n",
        "plt.legend()\n",
        "plt.xlabel(\"Epochs\")\n",
        "plt.ylabel(\"Accuracy\")  \n",
        "plt.show();"
      ],
      "metadata": {
        "id": "OwLVRWPjodiV",
        "colab": {
          "base_uri": "https://localhost:8080/",
          "height": 295
        },
        "outputId": "316e04de-ef57-47f0-9e77-6596b5093b96"
      },
      "execution_count": null,
      "outputs": [
        {
          "output_type": "display_data",
          "data": {
            "text/plain": [
              "<Figure size 432x288 with 1 Axes>"
            ],
            "image/png": "[encoded data removed]"
          },
          "metadata": {
            "needs_background": "light"
          }
        }
      ]
    },
    {
      "cell_type": "code",
      "source": [
        "model.save(\"/content/drive/MyDrive/Address_Clodeo/Address_Update/save_model/model_KP.h5\")"
      ],
      "metadata": {
        "id": "ab7RgZBkOgo9"
      },
      "execution_count": null,
      "outputs": []
    },
    {
      "cell_type": "markdown",
      "source": [
        "#Custom Test"
      ],
      "metadata": {
        "id": "iIAekSfCDhXt"
      }
    },
    {
      "cell_type": "code",
      "source": [
        "label_codex = df.Codex.unique()"
      ],
      "metadata": {
        "id": "bEm7O6pTEEIl"
      },
      "execution_count": 16,
      "outputs": []
    },
    {
      "cell_type": "code",
      "source": [
        "new_text = ['STP NHI Bandung Setiabudi Hegarmanah']\n",
        "# new_text = ['Kos Rafflesia 3 sukabirus citeurup']\n",
        "seq = tokenizer.texts_to_sequences(new_text)\n",
        "padded = pad_sequences(seq, maxlen=MAX_SEQUENCE_LENGTH)\n",
        "pred = model.predict(padded)\n",
        "labels = label_codex\n",
        "print(pred, labels[np.argmax(pred)])"
      ],
      "metadata": {
        "colab": {
          "base_uri": "https://localhost:8080/"
        },
        "id": "3bLinqIvDgar",
        "outputId": "fa375286-513f-4d2e-e0b0-1dd90eb7bc89"
      },
      "execution_count": 24,
      "outputs": [
        {
          "output_type": "stream",
          "name": "stdout",
          "text": [
            "[[2.8608911e-09 2.8558496e-08 9.4739157e-08 ... 5.3586997e-09\n",
            "  6.9101870e-11 9.4154140e-10]] 161\n"
          ]
        }
      ]
    },
    {
      "cell_type": "code",
      "source": [
        "df_fix = pd.read_csv('/content/drive/MyDrive/Kuliah/KP/Clodeo/Colab Notebooks/Address_Update/clean_data/dataAddress_fix.csv')\n",
        "# df_fix = pd.read_csv('/content/drive/MyDrive/Address_Clodeo/Address_Update/clean_data/dataAddress_fix.csv')"
      ],
      "metadata": {
        "id": "4tof15RqFpzL",
        "colab": {
          "base_uri": "https://localhost:8080/"
        },
        "outputId": "58ccbfe8-a1f9-45f8-c69e-6330b34dc564"
      },
      "execution_count": 18,
      "outputs": [
        {
          "output_type": "stream",
          "name": "stderr",
          "text": [
            "/usr/local/lib/python3.7/dist-packages/IPython/core/interactiveshell.py:3326: DtypeWarning:\n",
            "\n",
            "Columns (4) have mixed types.Specify dtype option on import or set low_memory=False.\n",
            "\n"
          ]
        }
      ]
    },
    {
      "cell_type": "code",
      "source": [
        "df_fix"
      ],
      "metadata": {
        "colab": {
          "base_uri": "https://localhost:8080/",
          "height": 424
        },
        "id": "QxJnIrc0GOaa",
        "outputId": "4966187f-8660-42c8-f8f2-c193b1a1d556"
      },
      "execution_count": 19,
      "outputs": [
        {
          "output_type": "execute_result",
          "data": {
            "text/plain": [
              "                                                   street1  \\\n",
              "0        Gang Veteran RT 01  RW 07 No.9 \\nKelurahan Lub...   \n",
              "1        Lingkungan TUMALIA kecamatan Turikale Keluraha...   \n",
              "2                   ds kalimalang dsn sragi lor rt03 rw02    \n",
              "3        Desa Gunung Tandla rt 01 Rw 01\\nkec. KAwalu\\nk...   \n",
              "4                              Ruko Mall Taman Palem No.70   \n",
              "...                                                    ...   \n",
              "8859235  Blossomville W 08/28 Citra Raya, PANONGAN, KAB...   \n",
              "8859236  Perum grha palem indah no. A8 Joho, condong, D...   \n",
              "8859237  Jln pandan gang pandan 3 no 23 kelurahan tangk...   \n",
              "8859238  KPP Pratama Cirebon Dua, Jl.Dr.Cipto Mangunkus...   \n",
              "8859239  Komplek puri fajar blok A5 no 15 rt 03 rw 09 k...   \n",
              "\n",
              "                            city     Subdistrict               StateProvince  \\\n",
              "0        KOTA ADM. JAKARTA TIMUR        CIPAYUNG                 DKI JAKARTA   \n",
              "1                     KAB. MAROS        TURIKALE            SULAWESI SELATAN   \n",
              "2                  KAB. PONOROGO        SUKOREJO                  JAWA TIMUR   \n",
              "3               KOTA TASIKMALAYA          KAWALU                  JAWA BARAT   \n",
              "4        KOTA ADM. JAKARTA BARAT      CENGKARENG                 DKI JAKARTA   \n",
              "...                          ...             ...                         ...   \n",
              "8859235           KAB. TANGERANG        PANONGAN                      BANTEN   \n",
              "8859236              KAB. SLEMAN           DEPOK  DAERAH ISTIMEWA YOGYAKARTA   \n",
              "8859237           KOTA PEKANBARU      BUKIT RAYA                        RIAU   \n",
              "8859238             KOTA CIREBON         KESAMBI                  JAWA BARAT   \n",
              "8859239              KOTA CIMAHI  CIMAHI SELATAN                  JAWA BARAT   \n",
              "\n",
              "        PostalCode      Code  Codex  \n",
              "0            13810  31.75.10      0  \n",
              "1              NaN  73.09.14      1  \n",
              "2              NaN  35.02.15      2  \n",
              "3              NaN  32.78.05      3  \n",
              "4            11730  31.73.01      4  \n",
              "...            ...       ...    ...  \n",
              "8859235      15711  36.03.19    204  \n",
              "8859236      55282  34.04.07    102  \n",
              "8859237      28289  14.71.07   1690  \n",
              "8859238      45131  32.74.05   1059  \n",
              "8859239      40531  32.77.01    573  \n",
              "\n",
              "[8859240 rows x 7 columns]"
            ],
            "text/html": [
              "\n",
              "  <div id=\"df-2873a153-3e37-4859-89c0-46ded77241ec\">\n",
              "    <div class=\"colab-df-container\">\n",
              "      <div>\n",
              "<style scoped>\n",
              "    .dataframe tbody tr th:only-of-type {\n",
              "        vertical-align: middle;\n",
              "    }\n",
              "\n",
              "    .dataframe tbody tr th {\n",
              "        vertical-align: top;\n",
              "    }\n",
              "\n",
              "    .dataframe thead th {\n",
              "        text-align: right;\n",
              "    }\n",
              "</style>\n",
              "<table border=\"1\" class=\"dataframe\">\n",
              "  <thead>\n",
              "    <tr style=\"text-align: right;\">\n",
              "      <th></th>\n",
              "      <th>street1</th>\n",
              "      <th>city</th>\n",
              "      <th>Subdistrict</th>\n",
              "      <th>StateProvince</th>\n",
              "      <th>PostalCode</th>\n",
              "      <th>Code</th>\n",
              "      <th>Codex</th>\n",
              "    </tr>\n",
              "  </thead>\n",
              "  <tbody>\n",
              "    <tr>\n",
              "      <th>0</th>\n",
              "      <td>Gang Veteran RT 01  RW 07 No.9 \\nKelurahan Lub...</td>\n",
              "      <td>KOTA ADM. JAKARTA TIMUR</td>\n",
              "      <td>CIPAYUNG</td>\n",
              "      <td>DKI JAKARTA</td>\n",
              "      <td>13810</td>\n",
              "      <td>31.75.10</td>\n",
              "      <td>0</td>\n",
              "    </tr>\n",
              "    <tr>\n",
              "      <th>1</th>\n",
              "      <td>Lingkungan TUMALIA kecamatan Turikale Keluraha...</td>\n",
              "      <td>KAB. MAROS</td>\n",
              "      <td>TURIKALE</td>\n",
              "      <td>SULAWESI SELATAN</td>\n",
              "      <td>NaN</td>\n",
              "      <td>73.09.14</td>\n",
              "      <td>1</td>\n",
              "    </tr>\n",
              "    <tr>\n",
              "      <th>2</th>\n",
              "      <td>ds kalimalang dsn sragi lor rt03 rw02</td>\n",
              "      <td>KAB. PONOROGO</td>\n",
              "      <td>SUKOREJO</td>\n",
              "      <td>JAWA TIMUR</td>\n",
              "      <td>NaN</td>\n",
              "      <td>35.02.15</td>\n",
              "      <td>2</td>\n",
              "    </tr>\n",
              "    <tr>\n",
              "      <th>3</th>\n",
              "      <td>Desa Gunung Tandla rt 01 Rw 01\\nkec. KAwalu\\nk...</td>\n",
              "      <td>KOTA TASIKMALAYA</td>\n",
              "      <td>KAWALU</td>\n",
              "      <td>JAWA BARAT</td>\n",
              "      <td>NaN</td>\n",
              "      <td>32.78.05</td>\n",
              "      <td>3</td>\n",
              "    </tr>\n",
              "    <tr>\n",
              "      <th>4</th>\n",
              "      <td>Ruko Mall Taman Palem No.70</td>\n",
              "      <td>KOTA ADM. JAKARTA BARAT</td>\n",
              "      <td>CENGKARENG</td>\n",
              "      <td>DKI JAKARTA</td>\n",
              "      <td>11730</td>\n",
              "      <td>31.73.01</td>\n",
              "      <td>4</td>\n",
              "    </tr>\n",
              "    <tr>\n",
              "      <th>...</th>\n",
              "      <td>...</td>\n",
              "      <td>...</td>\n",
              "      <td>...</td>\n",
              "      <td>...</td>\n",
              "      <td>...</td>\n",
              "      <td>...</td>\n",
              "      <td>...</td>\n",
              "    </tr>\n",
              "    <tr>\n",
              "      <th>8859235</th>\n",
              "      <td>Blossomville W 08/28 Citra Raya, PANONGAN, KAB...</td>\n",
              "      <td>KAB. TANGERANG</td>\n",
              "      <td>PANONGAN</td>\n",
              "      <td>BANTEN</td>\n",
              "      <td>15711</td>\n",
              "      <td>36.03.19</td>\n",
              "      <td>204</td>\n",
              "    </tr>\n",
              "    <tr>\n",
              "      <th>8859236</th>\n",
              "      <td>Perum grha palem indah no. A8 Joho, condong, D...</td>\n",
              "      <td>KAB. SLEMAN</td>\n",
              "      <td>DEPOK</td>\n",
              "      <td>DAERAH ISTIMEWA YOGYAKARTA</td>\n",
              "      <td>55282</td>\n",
              "      <td>34.04.07</td>\n",
              "      <td>102</td>\n",
              "    </tr>\n",
              "    <tr>\n",
              "      <th>8859237</th>\n",
              "      <td>Jln pandan gang pandan 3 no 23 kelurahan tangk...</td>\n",
              "      <td>KOTA PEKANBARU</td>\n",
              "      <td>BUKIT RAYA</td>\n",
              "      <td>RIAU</td>\n",
              "      <td>28289</td>\n",
              "      <td>14.71.07</td>\n",
              "      <td>1690</td>\n",
              "    </tr>\n",
              "    <tr>\n",
              "      <th>8859238</th>\n",
              "      <td>KPP Pratama Cirebon Dua, Jl.Dr.Cipto Mangunkus...</td>\n",
              "      <td>KOTA CIREBON</td>\n",
              "      <td>KESAMBI</td>\n",
              "      <td>JAWA BARAT</td>\n",
              "      <td>45131</td>\n",
              "      <td>32.74.05</td>\n",
              "      <td>1059</td>\n",
              "    </tr>\n",
              "    <tr>\n",
              "      <th>8859239</th>\n",
              "      <td>Komplek puri fajar blok A5 no 15 rt 03 rw 09 k...</td>\n",
              "      <td>KOTA CIMAHI</td>\n",
              "      <td>CIMAHI SELATAN</td>\n",
              "      <td>JAWA BARAT</td>\n",
              "      <td>40531</td>\n",
              "      <td>32.77.01</td>\n",
              "      <td>573</td>\n",
              "    </tr>\n",
              "  </tbody>\n",
              "</table>\n",
              "<p>8859240 rows × 7 columns</p>\n",
              "</div>\n",
              "      <button class=\"colab-df-convert\" onclick=\"convertToInteractive('df-2873a153-3e37-4859-89c0-46ded77241ec')\"\n",
              "              title=\"Convert this dataframe to an interactive table.\"\n",
              "              style=\"display:none;\">\n",
              "        \n",
              "  <svg xmlns=\"http://www.w3.org/2000/svg\" height=\"24px\"viewBox=\"0 0 24 24\"\n",
              "       width=\"24px\">\n",
              "    <path d=\"M0 0h24v24H0V0z\" fill=\"none\"/>\n",
              "    <path d=\"M18.56 5.44l.94 2.06.94-2.06 2.06-.94-2.06-.94-.94-2.06-.94 2.06-2.06.94zm-11 1L8.5 8.5l.94-2.06 2.06-.94-2.06-.94L8.5 2.5l-.94 2.06-2.06.94zm10 10l.94 2.06.94-2.06 2.06-.94-2.06-.94-.94-2.06-.94 2.06-2.06.94z\"/><path d=\"M17.41 7.96l-1.37-1.37c-.4-.4-.92-.59-1.43-.59-.52 0-1.04.2-1.43.59L10.3 9.45l-7.72 7.72c-.78.78-.78 2.05 0 2.83L4 21.41c.39.39.9.59 1.41.59.51 0 1.02-.2 1.41-.59l7.78-7.78 2.81-2.81c.8-.78.8-2.07 0-2.86zM5.41 20L4 18.59l7.72-7.72 1.47 1.35L5.41 20z\"/>\n",
              "  </svg>\n",
              "      </button>\n",
              "      \n",
              "  <style>\n",
              "    .colab-df-container {\n",
              "      display:flex;\n",
              "      flex-wrap:wrap;\n",
              "      gap: 12px;\n",
              "    }\n",
              "\n",
              "    .colab-df-convert {\n",
              "      background-color: #E8F0FE;\n",
              "      border: none;\n",
              "      border-radius: 50%;\n",
              "      cursor: pointer;\n",
              "      display: none;\n",
              "      fill: #1967D2;\n",
              "      height: 32px;\n",
              "      padding: 0 0 0 0;\n",
              "      width: 32px;\n",
              "    }\n",
              "\n",
              "    .colab-df-convert:hover {\n",
              "      background-color: #E2EBFA;\n",
              "      box-shadow: 0px 1px 2px rgba(60, 64, 67, 0.3), 0px 1px 3px 1px rgba(60, 64, 67, 0.15);\n",
              "      fill: #174EA6;\n",
              "    }\n",
              "\n",
              "    [theme=dark] .colab-df-convert {\n",
              "      background-color: #3B4455;\n",
              "      fill: #D2E3FC;\n",
              "    }\n",
              "\n",
              "    [theme=dark] .colab-df-convert:hover {\n",
              "      background-color: #434B5C;\n",
              "      box-shadow: 0px 1px 3px 1px rgba(0, 0, 0, 0.15);\n",
              "      filter: drop-shadow(0px 1px 2px rgba(0, 0, 0, 0.3));\n",
              "      fill: #FFFFFF;\n",
              "    }\n",
              "  </style>\n",
              "\n",
              "      <script>\n",
              "        const buttonEl =\n",
              "          document.querySelector('#df-2873a153-3e37-4859-89c0-46ded77241ec button.colab-df-convert');\n",
              "        buttonEl.style.display =\n",
              "          google.colab.kernel.accessAllowed ? 'block' : 'none';\n",
              "\n",
              "        async function convertToInteractive(key) {\n",
              "          const element = document.querySelector('#df-2873a153-3e37-4859-89c0-46ded77241ec');\n",
              "          const dataTable =\n",
              "            await google.colab.kernel.invokeFunction('convertToInteractive',\n",
              "                                                     [key], {});\n",
              "          if (!dataTable) return;\n",
              "\n",
              "          const docLinkHtml = 'Like what you see? Visit the ' +\n",
              "            '<a target=\"_blank\" href=https://colab.research.google.com/notebooks/data_table.ipynb>data table notebook</a>'\n",
              "            + ' to learn more about interactive tables.';\n",
              "          element.innerHTML = '';\n",
              "          dataTable['output_type'] = 'display_data';\n",
              "          await google.colab.output.renderOutput(dataTable, element);\n",
              "          const docLink = document.createElement('div');\n",
              "          docLink.innerHTML = docLinkHtml;\n",
              "          element.appendChild(docLink);\n",
              "        }\n",
              "      </script>\n",
              "    </div>\n",
              "  </div>\n",
              "  "
            ]
          },
          "metadata": {},
          "execution_count": 19
        }
      ]
    },
    {
      "cell_type": "code",
      "source": [
        "cari_kecamatan = df_fix[df_fix['Codex'] == 161]\n",
        "cari_kecamatan"
      ],
      "metadata": {
        "colab": {
          "base_uri": "https://localhost:8080/",
          "height": 424
        },
        "id": "VnQk-RNPGRUZ",
        "outputId": "9e92f389-ba57-4566-d14a-12107493ba2e"
      },
      "execution_count": 25,
      "outputs": [
        {
          "output_type": "execute_result",
          "data": {
            "text/plain": [
              "                                                   street1          city  \\\n",
              "196      Kantor Bank BRI Cabang Bandung Setiabudi\\nJln....  KOTA BANDUNG   \n",
              "3035              Kmp Bengkok No.1 RT/RW 01/01 Ciumbuleuit  KOTA BANDUNG   \n",
              "3164                 Jalan bukit jarian v rt 6 rw 11 no 39  KOTA BANDUNG   \n",
              "3710     Jalan cipaku 2 RT.05 RW.02 no.43 kelurahan ledeng  KOTA BANDUNG   \n",
              "10144                       \\nJln. Dr Setiabudi No.170 F-G  KOTA BANDUNG   \n",
              "...                                                    ...           ...   \n",
              "8846851  Jl. Budisari VII no 1, CIDADAP, KOTA BANDUNG, ...  KOTA BANDUNG   \n",
              "8847002  Syl's Kitchen OBC Guest House\\nJl. Ranca Benta...  KOTA BANDUNG   \n",
              "8851655  Desa ciumbuleuit RT O6 RW 13 atas (RM.timbel w...  KOTA BANDUNG   \n",
              "8854074  Jln. Bukit raya atas punclut no 558A cihanja R...  KOTA BANDUNG   \n",
              "8859184  Hegarmanah Cikendi No.1A, Kel Hegarmanah, Kec....  KOTA BANDUNG   \n",
              "\n",
              "        Subdistrict StateProvince PostalCode      Code  Codex  \n",
              "196         CIDADAP    JAWA BARAT      40141  32.73.08    161  \n",
              "3035        CIDADAP    JAWA BARAT      40142  32.73.08    161  \n",
              "3164        CIDADAP    JAWA BARAT          -  32.73.08    161  \n",
              "3710        CIDADAP    JAWA BARAT      40143  32.73.08    161  \n",
              "10144       CIDADAP    JAWA BARAT      40141  32.73.08    161  \n",
              "...             ...           ...        ...       ...    ...  \n",
              "8846851     CIDADAP    JAWA BARAT      40141  32.73.08    161  \n",
              "8847002     CIDADAP    JAWA BARAT      40142  32.73.08    161  \n",
              "8851655     CIDADAP    JAWA BARAT        NaN  32.73.08    161  \n",
              "8854074     CIDADAP    JAWA BARAT        NaN  32.73.08    161  \n",
              "8859184     CIDADAP    JAWA BARAT      40141  32.73.08    161  \n",
              "\n",
              "[3879 rows x 7 columns]"
            ],
            "text/html": [
              "\n",
              "  <div id=\"df-727f671b-15a4-46f7-b9f0-f35a3c096ce6\">\n",
              "    <div class=\"colab-df-container\">\n",
              "      <div>\n",
              "<style scoped>\n",
              "    .dataframe tbody tr th:only-of-type {\n",
              "        vertical-align: middle;\n",
              "    }\n",
              "\n",
              "    .dataframe tbody tr th {\n",
              "        vertical-align: top;\n",
              "    }\n",
              "\n",
              "    .dataframe thead th {\n",
              "        text-align: right;\n",
              "    }\n",
              "</style>\n",
              "<table border=\"1\" class=\"dataframe\">\n",
              "  <thead>\n",
              "    <tr style=\"text-align: right;\">\n",
              "      <th></th>\n",
              "      <th>street1</th>\n",
              "      <th>city</th>\n",
              "      <th>Subdistrict</th>\n",
              "      <th>StateProvince</th>\n",
              "      <th>PostalCode</th>\n",
              "      <th>Code</th>\n",
              "      <th>Codex</th>\n",
              "    </tr>\n",
              "  </thead>\n",
              "  <tbody>\n",
              "    <tr>\n",
              "      <th>196</th>\n",
              "      <td>Kantor Bank BRI Cabang Bandung Setiabudi\\nJln....</td>\n",
              "      <td>KOTA BANDUNG</td>\n",
              "      <td>CIDADAP</td>\n",
              "      <td>JAWA BARAT</td>\n",
              "      <td>40141</td>\n",
              "      <td>32.73.08</td>\n",
              "      <td>161</td>\n",
              "    </tr>\n",
              "    <tr>\n",
              "      <th>3035</th>\n",
              "      <td>Kmp Bengkok No.1 RT/RW 01/01 Ciumbuleuit</td>\n",
              "      <td>KOTA BANDUNG</td>\n",
              "      <td>CIDADAP</td>\n",
              "      <td>JAWA BARAT</td>\n",
              "      <td>40142</td>\n",
              "      <td>32.73.08</td>\n",
              "      <td>161</td>\n",
              "    </tr>\n",
              "    <tr>\n",
              "      <th>3164</th>\n",
              "      <td>Jalan bukit jarian v rt 6 rw 11 no 39</td>\n",
              "      <td>KOTA BANDUNG</td>\n",
              "      <td>CIDADAP</td>\n",
              "      <td>JAWA BARAT</td>\n",
              "      <td>-</td>\n",
              "      <td>32.73.08</td>\n",
              "      <td>161</td>\n",
              "    </tr>\n",
              "    <tr>\n",
              "      <th>3710</th>\n",
              "      <td>Jalan cipaku 2 RT.05 RW.02 no.43 kelurahan ledeng</td>\n",
              "      <td>KOTA BANDUNG</td>\n",
              "      <td>CIDADAP</td>\n",
              "      <td>JAWA BARAT</td>\n",
              "      <td>40143</td>\n",
              "      <td>32.73.08</td>\n",
              "      <td>161</td>\n",
              "    </tr>\n",
              "    <tr>\n",
              "      <th>10144</th>\n",
              "      <td>\\nJln. Dr Setiabudi No.170 F-G</td>\n",
              "      <td>KOTA BANDUNG</td>\n",
              "      <td>CIDADAP</td>\n",
              "      <td>JAWA BARAT</td>\n",
              "      <td>40141</td>\n",
              "      <td>32.73.08</td>\n",
              "      <td>161</td>\n",
              "    </tr>\n",
              "    <tr>\n",
              "      <th>...</th>\n",
              "      <td>...</td>\n",
              "      <td>...</td>\n",
              "      <td>...</td>\n",
              "      <td>...</td>\n",
              "      <td>...</td>\n",
              "      <td>...</td>\n",
              "      <td>...</td>\n",
              "    </tr>\n",
              "    <tr>\n",
              "      <th>8846851</th>\n",
              "      <td>Jl. Budisari VII no 1, CIDADAP, KOTA BANDUNG, ...</td>\n",
              "      <td>KOTA BANDUNG</td>\n",
              "      <td>CIDADAP</td>\n",
              "      <td>JAWA BARAT</td>\n",
              "      <td>40141</td>\n",
              "      <td>32.73.08</td>\n",
              "      <td>161</td>\n",
              "    </tr>\n",
              "    <tr>\n",
              "      <th>8847002</th>\n",
              "      <td>Syl's Kitchen OBC Guest House\\nJl. Ranca Benta...</td>\n",
              "      <td>KOTA BANDUNG</td>\n",
              "      <td>CIDADAP</td>\n",
              "      <td>JAWA BARAT</td>\n",
              "      <td>40142</td>\n",
              "      <td>32.73.08</td>\n",
              "      <td>161</td>\n",
              "    </tr>\n",
              "    <tr>\n",
              "      <th>8851655</th>\n",
              "      <td>Desa ciumbuleuit RT O6 RW 13 atas (RM.timbel w...</td>\n",
              "      <td>KOTA BANDUNG</td>\n",
              "      <td>CIDADAP</td>\n",
              "      <td>JAWA BARAT</td>\n",
              "      <td>NaN</td>\n",
              "      <td>32.73.08</td>\n",
              "      <td>161</td>\n",
              "    </tr>\n",
              "    <tr>\n",
              "      <th>8854074</th>\n",
              "      <td>Jln. Bukit raya atas punclut no 558A cihanja R...</td>\n",
              "      <td>KOTA BANDUNG</td>\n",
              "      <td>CIDADAP</td>\n",
              "      <td>JAWA BARAT</td>\n",
              "      <td>NaN</td>\n",
              "      <td>32.73.08</td>\n",
              "      <td>161</td>\n",
              "    </tr>\n",
              "    <tr>\n",
              "      <th>8859184</th>\n",
              "      <td>Hegarmanah Cikendi No.1A, Kel Hegarmanah, Kec....</td>\n",
              "      <td>KOTA BANDUNG</td>\n",
              "      <td>CIDADAP</td>\n",
              "      <td>JAWA BARAT</td>\n",
              "      <td>40141</td>\n",
              "      <td>32.73.08</td>\n",
              "      <td>161</td>\n",
              "    </tr>\n",
              "  </tbody>\n",
              "</table>\n",
              "<p>3879 rows × 7 columns</p>\n",
              "</div>\n",
              "      <button class=\"colab-df-convert\" onclick=\"convertToInteractive('df-727f671b-15a4-46f7-b9f0-f35a3c096ce6')\"\n",
              "              title=\"Convert this dataframe to an interactive table.\"\n",
              "              style=\"display:none;\">\n",
              "        \n",
              "  <svg xmlns=\"http://www.w3.org/2000/svg\" height=\"24px\"viewBox=\"0 0 24 24\"\n",
              "       width=\"24px\">\n",
              "    <path d=\"M0 0h24v24H0V0z\" fill=\"none\"/>\n",
              "    <path d=\"M18.56 5.44l.94 2.06.94-2.06 2.06-.94-2.06-.94-.94-2.06-.94 2.06-2.06.94zm-11 1L8.5 8.5l.94-2.06 2.06-.94-2.06-.94L8.5 2.5l-.94 2.06-2.06.94zm10 10l.94 2.06.94-2.06 2.06-.94-2.06-.94-.94-2.06-.94 2.06-2.06.94z\"/><path d=\"M17.41 7.96l-1.37-1.37c-.4-.4-.92-.59-1.43-.59-.52 0-1.04.2-1.43.59L10.3 9.45l-7.72 7.72c-.78.78-.78 2.05 0 2.83L4 21.41c.39.39.9.59 1.41.59.51 0 1.02-.2 1.41-.59l7.78-7.78 2.81-2.81c.8-.78.8-2.07 0-2.86zM5.41 20L4 18.59l7.72-7.72 1.47 1.35L5.41 20z\"/>\n",
              "  </svg>\n",
              "      </button>\n",
              "      \n",
              "  <style>\n",
              "    .colab-df-container {\n",
              "      display:flex;\n",
              "      flex-wrap:wrap;\n",
              "      gap: 12px;\n",
              "    }\n",
              "\n",
              "    .colab-df-convert {\n",
              "      background-color: #E8F0FE;\n",
              "      border: none;\n",
              "      border-radius: 50%;\n",
              "      cursor: pointer;\n",
              "      display: none;\n",
              "      fill: #1967D2;\n",
              "      height: 32px;\n",
              "      padding: 0 0 0 0;\n",
              "      width: 32px;\n",
              "    }\n",
              "\n",
              "    .colab-df-convert:hover {\n",
              "      background-color: #E2EBFA;\n",
              "      box-shadow: 0px 1px 2px rgba(60, 64, 67, 0.3), 0px 1px 3px 1px rgba(60, 64, 67, 0.15);\n",
              "      fill: #174EA6;\n",
              "    }\n",
              "\n",
              "    [theme=dark] .colab-df-convert {\n",
              "      background-color: #3B4455;\n",
              "      fill: #D2E3FC;\n",
              "    }\n",
              "\n",
              "    [theme=dark] .colab-df-convert:hover {\n",
              "      background-color: #434B5C;\n",
              "      box-shadow: 0px 1px 3px 1px rgba(0, 0, 0, 0.15);\n",
              "      filter: drop-shadow(0px 1px 2px rgba(0, 0, 0, 0.3));\n",
              "      fill: #FFFFFF;\n",
              "    }\n",
              "  </style>\n",
              "\n",
              "      <script>\n",
              "        const buttonEl =\n",
              "          document.querySelector('#df-727f671b-15a4-46f7-b9f0-f35a3c096ce6 button.colab-df-convert');\n",
              "        buttonEl.style.display =\n",
              "          google.colab.kernel.accessAllowed ? 'block' : 'none';\n",
              "\n",
              "        async function convertToInteractive(key) {\n",
              "          const element = document.querySelector('#df-727f671b-15a4-46f7-b9f0-f35a3c096ce6');\n",
              "          const dataTable =\n",
              "            await google.colab.kernel.invokeFunction('convertToInteractive',\n",
              "                                                     [key], {});\n",
              "          if (!dataTable) return;\n",
              "\n",
              "          const docLinkHtml = 'Like what you see? Visit the ' +\n",
              "            '<a target=\"_blank\" href=https://colab.research.google.com/notebooks/data_table.ipynb>data table notebook</a>'\n",
              "            + ' to learn more about interactive tables.';\n",
              "          element.innerHTML = '';\n",
              "          dataTable['output_type'] = 'display_data';\n",
              "          await google.colab.output.renderOutput(dataTable, element);\n",
              "          const docLink = document.createElement('div');\n",
              "          docLink.innerHTML = docLinkHtml;\n",
              "          element.appendChild(docLink);\n",
              "        }\n",
              "      </script>\n",
              "    </div>\n",
              "  </div>\n",
              "  "
            ]
          },
          "metadata": {},
          "execution_count": 25
        }
      ]
    },
    {
      "cell_type": "code",
      "source": [],
      "metadata": {
        "id": "-dnLBPKIUvZS"
      },
      "execution_count": null,
      "outputs": []
    }
  ]
}